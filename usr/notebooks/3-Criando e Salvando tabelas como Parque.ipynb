{
 "cells": [
  {
   "cell_type": "code",
   "execution_count": 0,
   "metadata": {
    "application/vnd.databricks.v1+cell": {
     "cellMetadata": {
      "byteLimit": 2048000,
      "rowLimit": 10000
     },
     "inputWidgets": {},
     "nuid": "088bc97e-8cd8-4419-a8a5-28e77b5537a4",
     "showTitle": true,
     "title": "Briefing do case da RNP - Step3"
    }
   },
   "outputs": [],
   "source": [
    "#No Notebook crie lógica para salvar cada tabela como parque.\n",
    "#para este caso foi feito um upload previo dos arquivos CSV retirados do banco de dados da https://uibakery.io/sql-playground do Data base Type Ecommerce\n",
    "#total de 8 tabelas ['customers_202308221905.csv','employees_202308221906.csv','offices_202308221906.csv','orderdetails_202308221906.csv','orders_202308221906.csv','payments_202308221906.csv','product_lines_202308221907.csv','products_202308221907.csv'\n",
    "#Abaixo descrevo passo a passo a criação dos arquivos ja no databricks community disponiveis em CSV.\n"
   ]
  },
  {
   "cell_type": "code",
   "execution_count": 0,
   "metadata": {
    "application/vnd.databricks.v1+cell": {
     "cellMetadata": {
      "byteLimit": 2048000,
      "rowLimit": 10000
     },
     "inputWidgets": {},
     "nuid": "c102119a-74d7-4f6e-8d24-287895bc4760",
     "showTitle": true,
     "title": "Step1 - Local de referencia dos arquivos"
    }
   },
   "outputs": [],
   "source": [
    "# File location and type\n",
    "file_location_dest = \"/FileStore/tmp/\"\n",
    "#file_location = \"/FileStore/tables/\"\n",
    "file_location = ['/FileStore/tables/customers_202308221905.csv','/FileStore/tables/employees_202308221906.csv','/FileStore/tables/offices_202308221906.csv', \n",
    "                '/FileStore/tables/orderdetails_202308221906.csv','/FileStore/tables/orders_202308221906.csv','/FileStore/tables/payments_202308221906.csv','/FileStore/tables/product_lines_202308221907.csv','/FileStore/tables/products_202308221907.csv']\n",
    "filename_list = ['customers_202308221905.csv','employees_202308221906.csv','offices_202308221906.csv', \n",
    "                'orderdetails_202308221906.csv','orders_202308221906.csv','payments_202308221906.csv','product_lines_202308221907.csv','products_202308221907.csv']"
   ]
  },
  {
   "cell_type": "code",
   "execution_count": 0,
   "metadata": {
    "application/vnd.databricks.v1+cell": {
     "cellMetadata": {
      "byteLimit": 2048000,
      "rowLimit": 10000
     },
     "inputWidgets": {},
     "nuid": "9f8e69c0-361f-4187-b9c4-cc1904c9dce0",
     "showTitle": true,
     "title": "Step2 - Criando a logica de criação dos parquets usando função."
    }
   },
   "outputs": [],
   "source": [
    "def criando_arquivos_parquet(file_location, filename_list, file_location_dest):\n",
    "    '''Função de criação dos arquivos de parquet apartir de uma lista de arquivos'''\n",
    "    # CSV options\n",
    "    file_type = \"csv\"\n",
    "    infer_schema = \"true\"\n",
    "    first_row_is_header = \"true\"\n",
    "    delimiter = \",\"\n",
    "\n",
    "    for i in range(0,len(filename_list)):\n",
    "        print(\"criando o parquet file {}\".format(filename_list[i]))\n",
    "        # The applied options are for CSV files. For other file types, these will be ignored.\n",
    "        df = spark.read.format(file_type) \\\n",
    "        .option(\"inferSchema\", infer_schema) \\\n",
    "        .option(\"header\", first_row_is_header) \\\n",
    "        .option(\"sep\", delimiter) \\\n",
    "        .load(file_location[i])\n",
    "        #print(file_location[i])\n",
    "\n",
    "        #Criando o arquivo parquet:\n",
    "        permanent_table_name = \"Table_\"+filename_list[i].split(\"_\")[0]+\".parquet\"\n",
    "        #print(permanent_table_name)\n",
    "        try:\n",
    "            df.write.mode(\"overwrite\").parquet(file_location_dest+permanent_table_name) \n",
    "            parDF[i]=spark.read.parquet(file_location_dest+permanent_table_name)\n",
    "            #display(parDF1)\n",
    "            print(\"parquet file {} Criado com sucesso\".format(permanent_table_name))\n",
    "        except:\n",
    "            continue\n"
   ]
  },
  {
   "cell_type": "code",
   "execution_count": 0,
   "metadata": {
    "application/vnd.databricks.v1+cell": {
     "cellMetadata": {
      "byteLimit": 2048000,
      "rowLimit": 10000
     },
     "inputWidgets": {},
     "nuid": "5657ce37-290c-435d-8267-017af7693c45",
     "showTitle": true,
     "title": "Step3 - Rodando a chamada da função criar arquivos parquet "
    }
   },
   "outputs": [
    {
     "output_type": "stream",
     "name": "stdout",
     "output_type": "stream",
     "text": [
      "criando o parquet file customers_202308221905.csv\n/FileStore/tables/customers_202308221905.csv\ncriando o parquet file employees_202308221906.csv\n/FileStore/tables/employees_202308221906.csv\ncriando o parquet file offices_202308221906.csv\n/FileStore/tables/offices_202308221906.csv\ncriando o parquet file orderdetails_202308221906.csv\n/FileStore/tables/orderdetails_202308221906.csv\ncriando o parquet file orders_202308221906.csv\n/FileStore/tables/orders_202308221906.csv\ncriando o parquet file payments_202308221906.csv\n/FileStore/tables/payments_202308221906.csv\ncriando o parquet file product_lines_202308221907.csv\n/FileStore/tables/product_lines_202308221907.csv\ncriando o parquet file products_202308221907.csv\n/FileStore/tables/products_202308221907.csv\n"
     ]
    }
   ],
   "source": [
    "# Abaixo seque a chamada da função para criação dos arquivos Parquet.\n",
    "criando_arquivos_parquet(file_location, filename_list, file_location_dest)"
   ]
  },
  {
   "cell_type": "code",
   "execution_count": 0,
   "metadata": {
    "application/vnd.databricks.v1+cell": {
     "cellMetadata": {
      "byteLimit": 2048000,
      "rowLimit": 10000
     },
     "inputWidgets": {},
     "nuid": "585b0a83-6c73-4230-a110-4cc3e275c4b1",
     "showTitle": true,
     "title": "Step4 - Validação do diretório de arquivos."
    }
   },
   "outputs": [
    {
     "output_type": "display_data",
     "data": {
      "text/html": [
       "<style scoped>\n",
       "  .table-result-container {\n",
       "    max-height: 300px;\n",
       "    overflow: auto;\n",
       "  }\n",
       "  table, th, td {\n",
       "    border: 1px solid black;\n",
       "    border-collapse: collapse;\n",
       "  }\n",
       "  th, td {\n",
       "    padding: 5px;\n",
       "  }\n",
       "  th {\n",
       "    text-align: left;\n",
       "  }\n",
       "</style><div class='table-result-container'><table class='table-result'><thead style='background-color: white'><tr><th>path</th><th>name</th><th>size</th><th>modificationTime</th></tr></thead><tbody><tr><td>dbfs:/FileStore/tmp/Table_customers.parquet/</td><td>Table_customers.parquet/</td><td>0</td><td>0</td></tr><tr><td>dbfs:/FileStore/tmp/Table_employees.parquet/</td><td>Table_employees.parquet/</td><td>0</td><td>0</td></tr><tr><td>dbfs:/FileStore/tmp/Table_offices.parquet/</td><td>Table_offices.parquet/</td><td>0</td><td>0</td></tr><tr><td>dbfs:/FileStore/tmp/Table_orderdetails.parquet/</td><td>Table_orderdetails.parquet/</td><td>0</td><td>0</td></tr><tr><td>dbfs:/FileStore/tmp/Table_orders.parquet/</td><td>Table_orders.parquet/</td><td>0</td><td>0</td></tr><tr><td>dbfs:/FileStore/tmp/Table_payments.parquet/</td><td>Table_payments.parquet/</td><td>0</td><td>0</td></tr><tr><td>dbfs:/FileStore/tmp/Table_product.parquet/</td><td>Table_product.parquet/</td><td>0</td><td>0</td></tr><tr><td>dbfs:/FileStore/tmp/Table_products.parquet/</td><td>Table_products.parquet/</td><td>0</td><td>0</td></tr></tbody></table></div>"
      ]
     },
     "metadata": {
      "application/vnd.databricks.v1+output": {
       "addedWidgets": {},
       "aggData": [],
       "aggError": "",
       "aggOverflow": false,
       "aggSchema": [],
       "aggSeriesLimitReached": false,
       "aggType": "",
       "arguments": {},
       "columnCustomDisplayInfos": {},
       "data": [
        [
         "dbfs:/FileStore/tmp/Table_customers.parquet/",
         "Table_customers.parquet/",
         0,
         0
        ],
        [
         "dbfs:/FileStore/tmp/Table_employees.parquet/",
         "Table_employees.parquet/",
         0,
         0
        ],
        [
         "dbfs:/FileStore/tmp/Table_offices.parquet/",
         "Table_offices.parquet/",
         0,
         0
        ],
        [
         "dbfs:/FileStore/tmp/Table_orderdetails.parquet/",
         "Table_orderdetails.parquet/",
         0,
         0
        ],
        [
         "dbfs:/FileStore/tmp/Table_orders.parquet/",
         "Table_orders.parquet/",
         0,
         0
        ],
        [
         "dbfs:/FileStore/tmp/Table_payments.parquet/",
         "Table_payments.parquet/",
         0,
         0
        ],
        [
         "dbfs:/FileStore/tmp/Table_product.parquet/",
         "Table_product.parquet/",
         0,
         0
        ],
        [
         "dbfs:/FileStore/tmp/Table_products.parquet/",
         "Table_products.parquet/",
         0,
         0
        ]
       ],
       "datasetInfos": [],
       "dbfsResultPath": null,
       "isJsonSchema": true,
       "metadata": {},
       "overflow": false,
       "plotOptions": {
        "customPlotOptions": {},
        "displayType": "table",
        "pivotAggregation": null,
        "pivotColumns": null,
        "xColumns": null,
        "yColumns": null
       },
       "removedWidgets": [],
       "schema": [
        {
         "metadata": "{}",
         "name": "path",
         "type": "\"string\""
        },
        {
         "metadata": "{}",
         "name": "name",
         "type": "\"string\""
        },
        {
         "metadata": "{}",
         "name": "size",
         "type": "\"long\""
        },
        {
         "metadata": "{}",
         "name": "modificationTime",
         "type": "\"long\""
        }
       ],
       "type": "table"
      }
     },
     "output_type": "display_data"
    }
   ],
   "source": [
    "#validação dos arquivos criados.\n",
    "display(dbutils.fs.ls(\"dbfs:/FileStore/tmp\"))"
   ]
  },
  {
   "cell_type": "code",
   "execution_count": 0,
   "metadata": {
    "application/vnd.databricks.v1+cell": {
     "cellMetadata": {
      "byteLimit": 2048000,
      "rowLimit": 10000
     },
     "inputWidgets": {},
     "nuid": "1b90513d-8571-44a6-83cb-4d68996fb30a",
     "showTitle": true,
     "title": "Step5 - Download dos arquivos gerados"
    }
   },
   "outputs": [
    {
     "output_type": "display_data",
     "data": {
      "text/html": [
       "<a href=\"/files/tmp/Table_customers.parquet\" download> Download sample </a>"
      ]
     },
     "metadata": {
      "application/vnd.databricks.v1+output": {
       "addedWidgets": {},
       "arguments": {},
       "data": "<a href=\"/files/tmp/Table_customers.parquet\" download> Download sample </a>",
       "datasetInfos": [],
       "metadata": {},
       "removedWidgets": [],
       "textData": null,
       "type": "htmlSandbox"
      }
     },
     "output_type": "display_data"
    }
   ],
   "source": [
    "%python\n",
    "displayHTML(\"\"\"<a href=\"/files/tmp/Table_customers.parquet\" download> Download sample </a>\"\"\")"
   ]
  }
 ],
 "metadata": {
  "application/vnd.databricks.v1+notebook": {
   "dashboards": [],
   "language": "python",
   "notebookMetadata": {
    "pythonIndentUnit": 4
   },
   "notebookName": "3-Criando e Salvando tabelas como Parque",
   "widgets": {}
  }
 },
 "nbformat": 4,
 "nbformat_minor": 0
}
