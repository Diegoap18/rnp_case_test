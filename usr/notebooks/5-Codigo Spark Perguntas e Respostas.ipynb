{
 "cells": [
  {
   "cell_type": "code",
   "execution_count": 0,
   "metadata": {
    "application/vnd.databricks.v1+cell": {
     "cellMetadata": {
      "byteLimit": 2048000,
      "rowLimit": 10000
     },
     "inputWidgets": {},
     "nuid": "89dde5c3-da21-428e-b34c-e7c34d97420b",
     "showTitle": true,
     "title": "Briefing do desafio case."
    }
   },
   "outputs": [],
   "source": [
    "# No notebook crie código Spark que respondam as seguintes perguntas: \n",
    "# - Qual país possui a maior quantidade de itens cancelados? \n",
    "# - Qual o faturamento da linha de produto mais vendido, considere como os itens Shipped, cujo o pedido foi realizado no ano de 2005? \n",
    "# - Nome, sobrenome e e-mail dos vendedores do Japão, o local-part do e-mail deve estar mascarado.\n",
    "\n",
    "# para este case estudo foi realizado a criação da tabela no banco de dados \"\" feito pela Case 4,  deste modo com todas as tabelas ja criadas e populadas para este caso vou utilizar a tabela para as analises abaixo:\n"
   ]
  },
  {
   "cell_type": "code",
   "execution_count": 0,
   "metadata": {
    "application/vnd.databricks.v1+cell": {
     "cellMetadata": {
      "byteLimit": 2048000,
      "rowLimit": 10000
     },
     "inputWidgets": {},
     "nuid": "07b64f50-1250-45e8-a095-d78d06c5acef",
     "showTitle": true,
     "title": "Step1 - Setando as bibliotecas do spark"
    }
   },
   "outputs": [],
   "source": [
    "from pyspark.sql import SparkSession\n",
    "from pyspark.sql import functions as F"
   ]
  },
  {
   "cell_type": "code",
   "execution_count": 0,
   "metadata": {
    "application/vnd.databricks.v1+cell": {
     "cellMetadata": {
      "byteLimit": 2048000,
      "rowLimit": 10000
     },
     "inputWidgets": {},
     "nuid": "a59ef997-437e-4167-b8ee-e012a5593e3e",
     "showTitle": true,
     "title": "Step2 - Criando os data frames para as analises."
    }
   },
   "outputs": [],
   "source": [
    "#subindo para um dataframe as tabela Necessarias para analise:\n",
    "\n",
    "customers_df = spark.table('ecommerce_rnp_teste.tcustomers')\n",
    "\n",
    "orders_df = spark.table('ecommerce_rnp_teste.torders')\n",
    "\n",
    "orderdetails_df = spark.table('ecommerce_rnp_teste.torderdetails')\n",
    "\n",
    "employees_df = spark.table('ecommerce_rnp_teste.temployees')\n",
    "\n",
    "offices_df = spark.table('ecommerce_rnp_teste.toffices')\n",
    "\n",
    "payments_df = spark.table('ecommerce_rnp_teste.tpayments')\n",
    "\n",
    "productlines_df = spark.table('ecommerce_rnp_teste.tproductlines')\n",
    "\n",
    "products_df = spark.table('ecommerce_rnp_teste.tproducts')\n"
   ]
  },
  {
   "cell_type": "code",
   "execution_count": 0,
   "metadata": {
    "application/vnd.databricks.v1+cell": {
     "cellMetadata": {
      "byteLimit": 2048000,
      "rowLimit": 10000
     },
     "inputWidgets": {},
     "nuid": "e1ecee9f-3158-4cac-838a-847c08e4d72e",
     "showTitle": true,
     "title": "Step3 - Gerando a Analise 1 - Qual pais possui a maior quantidade de itens cancelados ?"
    }
   },
   "outputs": [
    {
     "output_type": "display_data",
     "data": {
      "text/html": [
       "<style scoped>\n",
       "  .table-result-container {\n",
       "    max-height: 300px;\n",
       "    overflow: auto;\n",
       "  }\n",
       "  table, th, td {\n",
       "    border: 1px solid black;\n",
       "    border-collapse: collapse;\n",
       "  }\n",
       "  th, td {\n",
       "    padding: 5px;\n",
       "  }\n",
       "  th {\n",
       "    text-align: left;\n",
       "  }\n",
       "</style><div class='table-result-container'><table class='table-result'><thead style='background-color: white'><tr><th>country</th><th>CancelledItems</th></tr></thead><tbody><tr><td>Spain</td><td>605</td></tr><tr><td>New Zealand</td><td>596</td></tr><tr><td>Sweden</td><td>550</td></tr><tr><td>USA</td><td>454</td></tr><tr><td>UK</td><td>429</td></tr></tbody></table></div>"
      ]
     },
     "metadata": {
      "application/vnd.databricks.v1+output": {
       "addedWidgets": {},
       "aggData": [],
       "aggError": "",
       "aggOverflow": false,
       "aggSchema": [],
       "aggSeriesLimitReached": false,
       "aggType": "",
       "arguments": {},
       "columnCustomDisplayInfos": {},
       "data": [
        [
         "Spain",
         605
        ],
        [
         "New Zealand",
         596
        ],
        [
         "Sweden",
         550
        ],
        [
         "USA",
         454
        ],
        [
         "UK",
         429
        ]
       ],
       "datasetInfos": [],
       "dbfsResultPath": null,
       "isJsonSchema": true,
       "metadata": {},
       "overflow": false,
       "plotOptions": {
        "customPlotOptions": {},
        "displayType": "table",
        "pivotAggregation": null,
        "pivotColumns": null,
        "xColumns": null,
        "yColumns": null
       },
       "removedWidgets": [],
       "schema": [
        {
         "metadata": "{}",
         "name": "country",
         "type": "\"string\""
        },
        {
         "metadata": "{}",
         "name": "CancelledItems",
         "type": "\"long\""
        }
       ],
       "type": "table"
      }
     },
     "output_type": "display_data"
    },
    {
     "output_type": "display_data",
     "data": {
      "text/plain": [
       "Databricks visualization. Run in Databricks to view."
      ]
     },
     "metadata": {
      "application/vnd.databricks.v1.subcommand+json": {
       "bindings": {},
       "collapsed": false,
       "command": "%python\n__backend_agg_display_orig = display\n__backend_agg_dfs = []\ndef __backend_agg_display_new(df):\n    __backend_agg_df_modules = [\"pandas.core.frame\", \"databricks.koalas.frame\", \"pyspark.sql.dataframe\", \"pyspark.pandas.frame\", \"pyspark.sql.connect.dataframe\"]\n    if (type(df).__module__ in __backend_agg_df_modules and type(df).__name__ == 'DataFrame') or isinstance(df, list):\n        __backend_agg_dfs.append(df)\n\ndisplay = __backend_agg_display_new\n\ndef __backend_agg_user_code_fn():\n    import base64\n    exec(base64.standard_b64decode(\"I1F1ZXJ5IGpvaW4gZW0gU3Bhcms6CnJlc3VsdCA9ICgKICAgIGN1c3RvbWVyc19kZi5hbGlhcygiYyIpCiAgICAuam9pbihvcmRlcnNfZGYuYWxpYXMoIm8iKSwgRi5jb2woImMuY3VzdG9tZXJfbnVtYmVyIikgPT0gRi5jb2woIm8uY3VzdG9tZXJfbnVtYmVyIikpCiAgICAuam9pbihvcmRlcmRldGFpbHNfZGYuYWxpYXMoIm9kIiksIEYuY29sKCJvLm9yZGVyX251bWJlciIpID09IEYuY29sKCJvZC5vcmRlcl9udW1iZXIiKSkKICAgIC5maWx0ZXIoRi5jb2woIm8uc3RhdHVzIikgPT0gIkNhbmNlbGxlZCIpCiAgICAuZ3JvdXBCeSgiYy5jb3VudHJ5IikKICAgIC5hZ2coRi5zdW0oIm9kLnF1YW50aXR5X29yZGVyZWQiKS5hbGlhcygiQ2FuY2VsbGVkSXRlbXMiKSkKICAgIC5vcmRlckJ5KEYuZGVzYygiQ2FuY2VsbGVkSXRlbXMiKSkKKQoKZGlzcGxheShyZXN1bHQpCiMgU2FsdmFyIG8gcmVzdWx0YWRvIG5vIGZvcm1hdG8gRGVsdGEKI3Jlc3VsdC53cml0ZS5mb3JtYXQoImRlbHRhIikubW9kZSgib3ZlcndyaXRlIikuc2F2ZSgiL0ZpbGVTdG9yZS9vdXRwdXQvZGVsdGFfYW5hbGlzZTEiKQoKI3ZlcmlmaWNhbmRvIG8gYXJxdWl2byBkZWx0YQphbmFsaXNlMSA9IHNwYXJrLnJlYWQuZm9ybWF0KCJkZWx0YSIpLmxvYWQoIi9GaWxlU3RvcmUvb3V0cHV0L2RlbHRhX2FuYWxpc2UxIikKZGlzcGxheShhbmFsaXNlMSk=\").decode())\n\ntry:\n    # run user code\n    __backend_agg_user_code_fn()\n\n    #reset display function\n    display = __backend_agg_display_orig\n\n    if len(__backend_agg_dfs) > 0:\n        # create a temp view\n        if type(__backend_agg_dfs[0]).__module__ == \"databricks.koalas.frame\":\n            # koalas dataframe\n            __backend_agg_dfs[0].to_spark().createOrReplaceTempView(\"DatabricksView0de36df\")\n        elif type(__backend_agg_dfs[0]).__module__ == \"pandas.core.frame\" or isinstance(__backend_agg_dfs[0], list):\n            # pandas dataframe\n            spark.createDataFrame(__backend_agg_dfs[0]).createOrReplaceTempView(\"DatabricksView0de36df\")\n        else:\n            __backend_agg_dfs[0].createOrReplaceTempView(\"DatabricksView0de36df\")\n        #run backend agg\n        display(spark.sql(\"\"\"WITH q AS (select * from DatabricksView0de36df) SELECT `country`,SUM(`CancelledItems`) `column_5ddebabc484` FROM q GROUP BY `country`\"\"\"))\n    else:\n        displayHTML(\"dataframe no longer exists. If you're using dataframe.display(), use display(dataframe) instead.\")\n\n\nfinally:\n    spark.sql(\"drop view if exists DatabricksView0de36df\")\n    display = __backend_agg_display_orig\n    del __backend_agg_display_new\n    del __backend_agg_display_orig\n    del __backend_agg_dfs\n    del __backend_agg_user_code_fn\n\n",
       "commandTitle": "QTD de Cancelamento por Pais",
       "commandType": "auto",
       "commandVersion": 0,
       "commentThread": [],
       "commentsVisible": false,
       "contentSha256Hex": null,
       "customPlotOptions": {
        "redashChart": [
         {
          "key": "type",
          "value": "CHART"
         },
         {
          "key": "options",
          "value": {
           "alignYAxesAtZero": true,
           "coefficient": 1,
           "columnConfigurationMap": {
            "x": {
             "column": "country",
             "id": "column_5ddebabc483"
            },
            "y": [
             {
              "column": "CancelledItems",
              "id": "column_5ddebabc484",
              "transform": "SUM"
             }
            ]
           },
           "dateTimeFormat": "DD/MM/YYYY HH:mm",
           "direction": {
            "type": "counterclockwise"
           },
           "error_y": {
            "type": "data",
            "visible": true
           },
           "globalSeriesType": "column",
           "isAggregationOn": true,
           "legend": {
            "traceorder": "normal"
           },
           "missingValuesAsZero": true,
           "numberFormat": "0,0[.]00000",
           "percentFormat": "0[.]00%",
           "series": {
            "error_y": {
             "type": "data",
             "visible": true
            },
            "percentValues": false,
            "stacking": null
           },
           "seriesOptions": {
            "column_5ddebabc484": {
             "name": "CancelledItems",
             "yAxis": 0
            }
           },
           "showDataLabels": true,
           "sizemode": "diameter",
           "sortX": false,
           "sortY": true,
           "swappedAxes": false,
           "textFormat": "",
           "useAggregationsUi": true,
           "valuesOptions": {},
           "version": 2,
           "xAxis": {
            "labels": {
             "enabled": true
            },
            "type": "-"
           },
           "yAxis": [
            {
             "type": "-"
            },
            {
             "opposite": true,
             "type": "-"
            }
           ]
          }
         }
        ]
       },
       "datasetPreviewNameToCmdIdMap": {},
       "diffDeletes": [],
       "diffInserts": [],
       "displayType": "redashChart",
       "error": null,
       "errorSummary": null,
       "errorTraceType": null,
       "finishTime": 0,
       "globalVars": {},
       "guid": "da3b53e5-723c-44cc-af40-09dfc947bc55",
       "height": "359",
       "hideCommandCode": false,
       "hideCommandResult": false,
       "iPythonMetadata": null,
       "inputWidgets": {},
       "isLockedInExamMode": false,
       "latestUser": "a user",
       "latestUserId": null,
       "listResultMetadata": null,
       "metadata": {},
       "nuid": "46a5630b-0d5e-46ab-8e0d-d56cc0022e4b",
       "origId": 3428650732870418,
       "parentHierarchy": [
        "63a4dcc3-e585-4dbb-8058-0def8bb974cb"
       ],
       "pivotAggregation": null,
       "pivotColumns": null,
       "position": 4.03125,
       "resultDbfsErrorMessage": null,
       "resultDbfsStatus": "INLINED_IN_TREE",
       "results": null,
       "showCommandTitle": false,
       "startTime": 0,
       "state": "input",
       "streamStates": {},
       "subcommandOptions": {
        "queryPlan": {
         "groups": [
          {
           "column": "country",
           "type": "column"
          }
         ],
         "selects": [
          {
           "column": "country",
           "type": "column"
          },
          {
           "alias": "column_5ddebabc484",
           "args": [
            {
             "column": "CancelledItems",
             "type": "column"
            }
           ],
           "function": "SUM",
           "type": "function"
          }
         ]
        }
       },
       "submitTime": 0,
       "subtype": "tableResultSubCmd.visualization",
       "tableResultIndex": 0,
       "useConsistentColors": false,
       "version": "CommandV1",
       "width": "1043",
       "workflows": [],
       "xColumns": null,
       "yColumns": null
      }
     },
     "output_type": "display_data"
    },
    {
     "output_type": "display_data",
     "data": {
      "text/html": [
       "<style scoped>\n",
       "  .table-result-container {\n",
       "    max-height: 300px;\n",
       "    overflow: auto;\n",
       "  }\n",
       "  table, th, td {\n",
       "    border: 1px solid black;\n",
       "    border-collapse: collapse;\n",
       "  }\n",
       "  th, td {\n",
       "    padding: 5px;\n",
       "  }\n",
       "  th {\n",
       "    text-align: left;\n",
       "  }\n",
       "</style><div class='table-result-container'><table class='table-result'><thead style='background-color: white'><tr><th>country</th><th>CancelledItems</th></tr></thead><tbody><tr><td>Spain</td><td>605</td></tr><tr><td>New Zealand</td><td>596</td></tr><tr><td>Sweden</td><td>550</td></tr><tr><td>USA</td><td>454</td></tr><tr><td>UK</td><td>429</td></tr></tbody></table></div>"
      ]
     },
     "metadata": {
      "application/vnd.databricks.v1+output": {
       "addedWidgets": {},
       "aggData": [],
       "aggError": "",
       "aggOverflow": false,
       "aggSchema": [],
       "aggSeriesLimitReached": false,
       "aggType": "",
       "arguments": {},
       "columnCustomDisplayInfos": {},
       "data": [
        [
         "Spain",
         605
        ],
        [
         "New Zealand",
         596
        ],
        [
         "Sweden",
         550
        ],
        [
         "USA",
         454
        ],
        [
         "UK",
         429
        ]
       ],
       "datasetInfos": [],
       "dbfsResultPath": null,
       "isJsonSchema": true,
       "metadata": {},
       "overflow": false,
       "plotOptions": {
        "customPlotOptions": {},
        "displayType": "table",
        "pivotAggregation": null,
        "pivotColumns": null,
        "xColumns": null,
        "yColumns": null
       },
       "removedWidgets": [],
       "schema": [
        {
         "metadata": "{}",
         "name": "country",
         "type": "\"string\""
        },
        {
         "metadata": "{}",
         "name": "CancelledItems",
         "type": "\"long\""
        }
       ],
       "type": "table"
      }
     },
     "output_type": "display_data"
    }
   ],
   "source": [
    "#Query join em Spark:\n",
    "result = (\n",
    "    customers_df.alias(\"c\")\n",
    "    .join(orders_df.alias(\"o\"), F.col(\"c.customer_number\") == F.col(\"o.customer_number\"))\n",
    "    .join(orderdetails_df.alias(\"od\"), F.col(\"o.order_number\") == F.col(\"od.order_number\"))\n",
    "    .filter(F.col(\"o.status\") == \"Cancelled\")\n",
    "    .groupBy(\"c.country\")\n",
    "    .agg(F.sum(\"od.quantity_ordered\").alias(\"CancelledItems\"))\n",
    "    .orderBy(F.desc(\"CancelledItems\"))\n",
    ")\n",
    "\n",
    "display(result)\n",
    "# Salvar o resultado no formato Delta\n",
    "result.write.format(\"delta\").mode(\"overwrite\").save(\"/FileStore/output/delta_analise1\")\n",
    "\n",
    "#verificando o arquivo delta\n",
    "analise1 = spark.read.format(\"delta\").load(\"/FileStore/output/delta_analise1\")\n",
    "display(analise1)"
   ]
  },
  {
   "cell_type": "code",
   "execution_count": 0,
   "metadata": {
    "application/vnd.databricks.v1+cell": {
     "cellMetadata": {
      "byteLimit": 2048000,
      "rowLimit": 10000
     },
     "inputWidgets": {},
     "nuid": "6cc58119-4f05-4f3d-8608-66543e680694",
     "showTitle": true,
     "title": "Step3 - Gerando Analise 2 - Qual o Faturamento de produtos mais vendidos (shipped), por pedidos realizados em 2005?"
    }
   },
   "outputs": [
    {
     "output_type": "display_data",
     "data": {
      "text/html": [
       "<style scoped>\n",
       "  .table-result-container {\n",
       "    max-height: 300px;\n",
       "    overflow: auto;\n",
       "  }\n",
       "  table, th, td {\n",
       "    border: 1px solid black;\n",
       "    border-collapse: collapse;\n",
       "  }\n",
       "  th, td {\n",
       "    padding: 5px;\n",
       "  }\n",
       "  th {\n",
       "    text-align: left;\n",
       "  }\n",
       "</style><div class='table-result-container'><table class='table-result'><thead style='background-color: white'><tr><th>product_line</th><th>faturamento_total</th></tr></thead><tbody><tr><td>Classic Cars</td><td>603666.9900000006</td></tr><tr><td>Vintage Cars</td><td>222510.69999999995</td></tr><tr><td>Motorcycles</td><td>212684.55000000002</td></tr><tr><td>Trucks and Buses</td><td>182231.44999999998</td></tr><tr><td>Planes</td><td>109701.55999999997</td></tr><tr><td>Ships</td><td>62989.19</td></tr><tr><td>Trains</td><td>22311.260000000002</td></tr></tbody></table></div>"
      ]
     },
     "metadata": {
      "application/vnd.databricks.v1+output": {
       "addedWidgets": {},
       "aggData": [],
       "aggError": "",
       "aggOverflow": false,
       "aggSchema": [],
       "aggSeriesLimitReached": false,
       "aggType": "",
       "arguments": {},
       "columnCustomDisplayInfos": {},
       "data": [
        [
         "Classic Cars",
         603666.9900000006
        ],
        [
         "Vintage Cars",
         222510.69999999995
        ],
        [
         "Motorcycles",
         212684.55000000002
        ],
        [
         "Trucks and Buses",
         182231.44999999998
        ],
        [
         "Planes",
         109701.55999999997
        ],
        [
         "Ships",
         62989.19
        ],
        [
         "Trains",
         22311.260000000002
        ]
       ],
       "datasetInfos": [],
       "dbfsResultPath": null,
       "isJsonSchema": true,
       "metadata": {},
       "overflow": false,
       "plotOptions": {
        "customPlotOptions": {},
        "displayType": "table",
        "pivotAggregation": null,
        "pivotColumns": null,
        "xColumns": null,
        "yColumns": null
       },
       "removedWidgets": [],
       "schema": [
        {
         "metadata": "{}",
         "name": "product_line",
         "type": "\"string\""
        },
        {
         "metadata": "{}",
         "name": "faturamento_total",
         "type": "\"double\""
        }
       ],
       "type": "table"
      }
     },
     "output_type": "display_data"
    },
    {
     "output_type": "display_data",
     "data": {
      "text/plain": [
       "Databricks visualization. Run in Databricks to view."
      ]
     },
     "metadata": {
      "application/vnd.databricks.v1.subcommand+json": {
       "bindings": {},
       "collapsed": false,
       "command": "%python\n__backend_agg_display_orig = display\n__backend_agg_dfs = []\ndef __backend_agg_display_new(df):\n    __backend_agg_df_modules = [\"pandas.core.frame\", \"databricks.koalas.frame\", \"pyspark.sql.dataframe\", \"pyspark.pandas.frame\", \"pyspark.sql.connect.dataframe\"]\n    if (type(df).__module__ in __backend_agg_df_modules and type(df).__name__ == 'DataFrame') or isinstance(df, list):\n        __backend_agg_dfs.append(df)\n\ndisplay = __backend_agg_display_new\n\ndef __backend_agg_user_code_fn():\n    import base64\n    exec(base64.standard_b64decode(\"IyBBTkFMSVNFIDIKIyBRdWFsIG8gZmF0dXJhbWVudG8gZGEgbGluaGEgZGUgcHJvZHV0byBtYWlzIHZlbmRpZG8sIGNvbnNpZGVyZSBjb21vIG9zIGl0ZW5zIFNoaXBwZWQsIGN1am8gbyBwZWRpZG8gZm9pIHJlYWxpemFkbyBubyBhbm8gZGUgMjAwNT8KCiNRdWVyeSBqb2luIGVtIFNwYXJrOgpyZXN1bHQyID0gKAogICAgb3JkZXJzX2RmLmFsaWFzKCJvIikKICAgIC5qb2luKG9yZGVyZGV0YWlsc19kZi5hbGlhcygib2QiKSwgRi5jb2woIm8ub3JkZXJfbnVtYmVyIikgPT0gRi5jb2woIm9kLm9yZGVyX251bWJlciIpKQogICAgLmpvaW4ocHJvZHVjdHNfZGYuYWxpYXMoInAiKSwgRi5jb2woInAucHJvZHVjdF9jb2RlIikgPT0gRi5jb2woIm9kLnByb2R1Y3RfY29kZSIpKQogICAgLmZpbHRlcigoRi5jb2woIm8uc3RhdHVzIikgPT0gIlNoaXBwZWQiKSAmIChGLnllYXIoIm8ub3JkZXJfZGF0ZSIpID09IDIwMDUpKQogICAgLmdyb3VwQnkoInAucHJvZHVjdF9saW5lIikKICAgIC5hZ2coRi5zdW0oRi5jb2woIm9kLnF1YW50aXR5X29yZGVyZWQiKSAqIEYuY29sKCJvZC5wcmljZV9lYWNoIikpLmFsaWFzKCJmYXR1cmFtZW50b190b3RhbCIpKQogICAgLm9yZGVyQnkoRi5kZXNjKCJmYXR1cmFtZW50b190b3RhbCIpKQopCgpkaXNwbGF5KHJlc3VsdDIpCgojIFNhbHZhciBvIHJlc3VsdGFkbyBubyBmb3JtYXRvIERlbHRhCiNyZXN1bHQyLndyaXRlLmZvcm1hdCgiZGVsdGEiKS5vcHRpb24oIm1lcmdlU2NoZW1hIiwgInRydWUiKS5tb2RlKCJvdmVyd3JpdGUiKS5zYXZlKCIvRmlsZVN0b3JlL291dHB1dC9kZWx0YV9hbmFsaXNlMiIpCiNyZXN1bHQyLndyaXRlLmZvcm1hdCgiZGVsdGEiKS5tb2RlKCJvdmVyd3JpdGUiKS5zYXZlKCIvRmlsZVN0b3JlL291dHB1dC9kZWx0YV9hbmFsaXNlMiIpCgojdmVyaWZpY2FuZG8gbyBhcnF1aXZvIGRlbHRhCmFuYWxpc2UyID0gc3BhcmsucmVhZC5mb3JtYXQoImRlbHRhIikubG9hZCgiL0ZpbGVTdG9yZS9vdXRwdXQvZGVsdGFfYW5hbGlzZTIiKQpkaXNwbGF5KGFuYWxpc2UyKQ==\").decode())\n\ntry:\n    # run user code\n    __backend_agg_user_code_fn()\n\n    #reset display function\n    display = __backend_agg_display_orig\n\n    if len(__backend_agg_dfs) > 0:\n        # create a temp view\n        if type(__backend_agg_dfs[0]).__module__ == \"databricks.koalas.frame\":\n            # koalas dataframe\n            __backend_agg_dfs[0].to_spark().createOrReplaceTempView(\"DatabricksView2f2ae6d\")\n        elif type(__backend_agg_dfs[0]).__module__ == \"pandas.core.frame\" or isinstance(__backend_agg_dfs[0], list):\n            # pandas dataframe\n            spark.createDataFrame(__backend_agg_dfs[0]).createOrReplaceTempView(\"DatabricksView2f2ae6d\")\n        else:\n            __backend_agg_dfs[0].createOrReplaceTempView(\"DatabricksView2f2ae6d\")\n        #run backend agg\n        display(spark.sql(\"\"\"WITH q AS (select * from DatabricksView2f2ae6d) SELECT `product_line`,SUM(`faturamento_total`) `column_5ddebabc519` FROM q GROUP BY `product_line`\"\"\"))\n    else:\n        displayHTML(\"dataframe no longer exists. If you're using dataframe.display(), use display(dataframe) instead.\")\n\n\nfinally:\n    spark.sql(\"drop view if exists DatabricksView2f2ae6d\")\n    display = __backend_agg_display_orig\n    del __backend_agg_display_new\n    del __backend_agg_display_orig\n    del __backend_agg_dfs\n    del __backend_agg_user_code_fn\n\n",
       "commandTitle": "Faturamento por linha de produtos (2005)",
       "commandType": "auto",
       "commandVersion": 0,
       "commentThread": [],
       "commentsVisible": false,
       "contentSha256Hex": null,
       "customPlotOptions": {
        "redashChart": [
         {
          "key": "type",
          "value": "CHART"
         },
         {
          "key": "options",
          "value": {
           "alignYAxesAtZero": true,
           "coefficient": 1,
           "columnConfigurationMap": {
            "x": {
             "column": "product_line",
             "id": "column_5ddebabc518"
            },
            "y": [
             {
              "column": "faturamento_total",
              "id": "column_5ddebabc519",
              "transform": "SUM"
             }
            ]
           },
           "dateTimeFormat": "DD/MM/YYYY HH:mm",
           "direction": {
            "type": "counterclockwise"
           },
           "error_y": {
            "type": "data",
            "visible": true
           },
           "globalSeriesType": "column",
           "isAggregationOn": true,
           "legend": {
            "traceorder": "normal"
           },
           "missingValuesAsZero": true,
           "numberFormat": "$0,0[.]",
           "percentFormat": "0[.]00%",
           "series": {
            "error_y": {
             "type": "data",
             "visible": true
            },
            "stacking": null
           },
           "seriesOptions": {
            "column_5ddebabc519": {
             "name": "faturamento_total",
             "yAxis": 0
            }
           },
           "showDataLabels": true,
           "sizemode": "diameter",
           "sortX": false,
           "sortY": true,
           "swappedAxes": false,
           "textFormat": "",
           "useAggregationsUi": true,
           "valuesOptions": {},
           "version": 2,
           "xAxis": {
            "labels": {
             "enabled": true
            },
            "type": "-"
           },
           "yAxis": [
            {
             "type": "-"
            },
            {
             "opposite": true,
             "type": "-"
            }
           ]
          }
         }
        ]
       },
       "datasetPreviewNameToCmdIdMap": {},
       "diffDeletes": [],
       "diffInserts": [],
       "displayType": "redashChart",
       "error": null,
       "errorSummary": null,
       "errorTraceType": null,
       "finishTime": 0,
       "globalVars": {},
       "guid": "23828635-1d7c-47e5-8884-0546c30ac0bc",
       "height": "341",
       "hideCommandCode": false,
       "hideCommandResult": false,
       "iPythonMetadata": null,
       "inputWidgets": {},
       "isLockedInExamMode": false,
       "latestUser": "a user",
       "latestUserId": null,
       "listResultMetadata": null,
       "metadata": {},
       "nuid": "8524e6ee-6f45-4b1d-8cc2-8f557fbe7a3f",
       "origId": 3428650732870420,
       "parentHierarchy": [
        "dad3ae86-07f0-4a02-b75c-cb34b20fcc16"
       ],
       "pivotAggregation": null,
       "pivotColumns": null,
       "position": 4.0625,
       "resultDbfsErrorMessage": null,
       "resultDbfsStatus": "INLINED_IN_TREE",
       "results": null,
       "showCommandTitle": false,
       "startTime": 0,
       "state": "input",
       "streamStates": {},
       "subcommandOptions": {
        "queryPlan": {
         "groups": [
          {
           "column": "product_line",
           "type": "column"
          }
         ],
         "selects": [
          {
           "column": "product_line",
           "type": "column"
          },
          {
           "alias": "column_5ddebabc519",
           "args": [
            {
             "column": "faturamento_total",
             "type": "column"
            }
           ],
           "function": "SUM",
           "type": "function"
          }
         ]
        }
       },
       "submitTime": 0,
       "subtype": "tableResultSubCmd.visualization",
       "tableResultIndex": 0,
       "useConsistentColors": false,
       "version": "CommandV1",
       "width": "1227",
       "workflows": [],
       "xColumns": null,
       "yColumns": null
      }
     },
     "output_type": "display_data"
    },
    {
     "output_type": "display_data",
     "data": {
      "text/html": [
       "<style scoped>\n",
       "  .table-result-container {\n",
       "    max-height: 300px;\n",
       "    overflow: auto;\n",
       "  }\n",
       "  table, th, td {\n",
       "    border: 1px solid black;\n",
       "    border-collapse: collapse;\n",
       "  }\n",
       "  th, td {\n",
       "    padding: 5px;\n",
       "  }\n",
       "  th {\n",
       "    text-align: left;\n",
       "  }\n",
       "</style><div class='table-result-container'><table class='table-result'><thead style='background-color: white'><tr><th>product_line</th><th>faturamento_total</th></tr></thead><tbody><tr><td>Classic Cars</td><td>603666.9900000006</td></tr><tr><td>Vintage Cars</td><td>222510.69999999995</td></tr><tr><td>Motorcycles</td><td>212684.55000000002</td></tr><tr><td>Trucks and Buses</td><td>182231.44999999998</td></tr><tr><td>Planes</td><td>109701.55999999997</td></tr><tr><td>Ships</td><td>62989.19</td></tr><tr><td>Trains</td><td>22311.260000000002</td></tr></tbody></table></div>"
      ]
     },
     "metadata": {
      "application/vnd.databricks.v1+output": {
       "addedWidgets": {},
       "aggData": [],
       "aggError": "",
       "aggOverflow": false,
       "aggSchema": [],
       "aggSeriesLimitReached": false,
       "aggType": "",
       "arguments": {},
       "columnCustomDisplayInfos": {},
       "data": [
        [
         "Classic Cars",
         603666.9900000006
        ],
        [
         "Vintage Cars",
         222510.69999999995
        ],
        [
         "Motorcycles",
         212684.55000000002
        ],
        [
         "Trucks and Buses",
         182231.44999999998
        ],
        [
         "Planes",
         109701.55999999997
        ],
        [
         "Ships",
         62989.19
        ],
        [
         "Trains",
         22311.260000000002
        ]
       ],
       "datasetInfos": [],
       "dbfsResultPath": null,
       "isJsonSchema": true,
       "metadata": {},
       "overflow": false,
       "plotOptions": {
        "customPlotOptions": {},
        "displayType": "table",
        "pivotAggregation": null,
        "pivotColumns": null,
        "xColumns": null,
        "yColumns": null
       },
       "removedWidgets": [],
       "schema": [
        {
         "metadata": "{}",
         "name": "product_line",
         "type": "\"string\""
        },
        {
         "metadata": "{}",
         "name": "faturamento_total",
         "type": "\"double\""
        }
       ],
       "type": "table"
      }
     },
     "output_type": "display_data"
    }
   ],
   "source": [
    "# ANALISE 2\n",
    "# Qual o faturamento da linha de produto mais vendido, considere como os itens Shipped, cujo o pedido foi realizado no ano de 2005?\n",
    "\n",
    "#Query join em Spark:\n",
    "result2 = (\n",
    "    orders_df.alias(\"o\")\n",
    "    .join(orderdetails_df.alias(\"od\"), F.col(\"o.order_number\") == F.col(\"od.order_number\"))\n",
    "    .join(products_df.alias(\"p\"), F.col(\"p.product_code\") == F.col(\"od.product_code\"))\n",
    "    .filter((F.col(\"o.status\") == \"Shipped\") & (F.year(\"o.order_date\") == 2005))\n",
    "    .groupBy(\"p.product_line\")\n",
    "    .agg(F.sum(F.col(\"od.quantity_ordered\") * F.col(\"od.price_each\")).alias(\"faturamento_total\"))\n",
    "    .orderBy(F.desc(\"faturamento_total\"))\n",
    ")\n",
    "\n",
    "display(result2)\n",
    "\n",
    "# Salvar o resultado no formato Delta\n",
    "#result2.write.format(\"delta\").option(\"mergeSchema\", \"true\").mode(\"overwrite\").save(\"/FileStore/output/delta_analise2\") - somente desmarque se preicsar fazer um merge dos files\n",
    "result2.write.format(\"delta\").mode(\"overwrite\").save(\"/FileStore/output/delta_analise2\")\n",
    "\n",
    "#verificando o arquivo delta\n",
    "analise2 = spark.read.format(\"delta\").load(\"/FileStore/output/delta_analise2\")\n",
    "display(analise2)"
   ]
  },
  {
   "cell_type": "code",
   "execution_count": 0,
   "metadata": {
    "application/vnd.databricks.v1+cell": {
     "cellMetadata": {
      "byteLimit": 2048000,
      "rowLimit": 10000
     },
     "inputWidgets": {},
     "nuid": "e230e410-67b6-4761-87d6-a495e415e627",
     "showTitle": true,
     "title": "Step4 - Gerando a analise 3 - Traga o Nome, sobrenome e e-mail dos vendedores do Japão, o local-part do e-mail deve estar mascarado."
    }
   },
   "outputs": [
    {
     "output_type": "display_data",
     "data": {
      "text/html": [
       "<style scoped>\n",
       "  .table-result-container {\n",
       "    max-height: 300px;\n",
       "    overflow: auto;\n",
       "  }\n",
       "  table, th, td {\n",
       "    border: 1px solid black;\n",
       "    border-collapse: collapse;\n",
       "  }\n",
       "  th, td {\n",
       "    padding: 5px;\n",
       "  }\n",
       "  th {\n",
       "    text-align: left;\n",
       "  }\n",
       "</style><div class='table-result-container'><table class='table-result'><thead style='background-color: white'><tr><th>Nome</th><th>Sobrenome</th><th>Email_Mascarado</th></tr></thead><tbody><tr><td>Mami</td><td>Nishi</td><td>*****@classicmodelcars.com</td></tr><tr><td>Yoshimi</td><td>Kato</td><td>*****@classicmodelcars.com</td></tr></tbody></table></div>"
      ]
     },
     "metadata": {
      "application/vnd.databricks.v1+output": {
       "addedWidgets": {},
       "aggData": [],
       "aggError": "",
       "aggOverflow": false,
       "aggSchema": [],
       "aggSeriesLimitReached": false,
       "aggType": "",
       "arguments": {},
       "columnCustomDisplayInfos": {},
       "data": [
        [
         "Mami",
         "Nishi",
         "*****@classicmodelcars.com"
        ],
        [
         "Yoshimi",
         "Kato",
         "*****@classicmodelcars.com"
        ]
       ],
       "datasetInfos": [],
       "dbfsResultPath": null,
       "isJsonSchema": true,
       "metadata": {},
       "overflow": false,
       "plotOptions": {
        "customPlotOptions": {},
        "displayType": "table",
        "pivotAggregation": null,
        "pivotColumns": null,
        "xColumns": null,
        "yColumns": null
       },
       "removedWidgets": [],
       "schema": [
        {
         "metadata": "{}",
         "name": "Nome",
         "type": "\"string\""
        },
        {
         "metadata": "{}",
         "name": "Sobrenome",
         "type": "\"string\""
        },
        {
         "metadata": "{}",
         "name": "Email_Mascarado",
         "type": "\"string\""
        }
       ],
       "type": "table"
      }
     },
     "output_type": "display_data"
    },
    {
     "output_type": "display_data",
     "data": {
      "text/html": [
       "<style scoped>\n",
       "  .table-result-container {\n",
       "    max-height: 300px;\n",
       "    overflow: auto;\n",
       "  }\n",
       "  table, th, td {\n",
       "    border: 1px solid black;\n",
       "    border-collapse: collapse;\n",
       "  }\n",
       "  th, td {\n",
       "    padding: 5px;\n",
       "  }\n",
       "  th {\n",
       "    text-align: left;\n",
       "  }\n",
       "</style><div class='table-result-container'><table class='table-result'><thead style='background-color: white'><tr><th>Nome</th><th>Sobrenome</th><th>Email_Mascarado</th></tr></thead><tbody><tr><td>Mami</td><td>Nishi</td><td>*****@classicmodelcars.com</td></tr><tr><td>Yoshimi</td><td>Kato</td><td>*****@classicmodelcars.com</td></tr></tbody></table></div>"
      ]
     },
     "metadata": {
      "application/vnd.databricks.v1+output": {
       "addedWidgets": {},
       "aggData": [],
       "aggError": "",
       "aggOverflow": false,
       "aggSchema": [],
       "aggSeriesLimitReached": false,
       "aggType": "",
       "arguments": {},
       "columnCustomDisplayInfos": {},
       "data": [
        [
         "Mami",
         "Nishi",
         "*****@classicmodelcars.com"
        ],
        [
         "Yoshimi",
         "Kato",
         "*****@classicmodelcars.com"
        ]
       ],
       "datasetInfos": [],
       "dbfsResultPath": null,
       "isJsonSchema": true,
       "metadata": {},
       "overflow": false,
       "plotOptions": {
        "customPlotOptions": {},
        "displayType": "table",
        "pivotAggregation": null,
        "pivotColumns": null,
        "xColumns": null,
        "yColumns": null
       },
       "removedWidgets": [],
       "schema": [
        {
         "metadata": "{}",
         "name": "Nome",
         "type": "\"string\""
        },
        {
         "metadata": "{}",
         "name": "Sobrenome",
         "type": "\"string\""
        },
        {
         "metadata": "{}",
         "name": "Email_Mascarado",
         "type": "\"string\""
        }
       ],
       "type": "table"
      }
     },
     "output_type": "display_data"
    }
   ],
   "source": [
    "\n",
    "#Query join em Spark:\n",
    "result3 = (\n",
    "    employees_df.alias(\"e\")\n",
    "    .join(offices_df.alias(\"o\"), F.col(\"e.office_code\") == F.col(\"o.office_code\"))\n",
    "    .filter((F.col(\"o.country\") == \"Japan\") & (F.col(\"e.job_Title\").like(\"%Sales%\")))\n",
    "    .select(\n",
    "        F.col(\"e.first_name\").alias(\"Nome\"),\n",
    "        F.col(\"e.last_name\").alias(\"Sobrenome\"),\n",
    "        F.concat(\n",
    "            F.lit('*****'),\n",
    "            F.expr(\"substring(e.email, position('@' in e.email), length(e.email))\")\n",
    "        ).alias(\"Email_Mascarado\")\n",
    "    )\n",
    ")\n",
    "\n",
    "display(result3)\n",
    "\n",
    "# Salvar o resultado no formato Delta\n",
    "result3.write.format(\"delta\").mode(\"overwrite\").save(\"/FileStore/output/delta_analise3\")\n",
    "\n",
    "#verificando o arquivo delta\n",
    "analise3 = spark.read.format(\"delta\").load(\"/FileStore/output/delta_analise3\")\n",
    "display(analise3)\n"
   ]
  },
  {
   "cell_type": "code",
   "execution_count": 0,
   "metadata": {
    "application/vnd.databricks.v1+cell": {
     "cellMetadata": {
      "byteLimit": 2048000,
      "rowLimit": 10000
     },
     "inputWidgets": {},
     "nuid": "de0defb1-a4c6-4e2a-bc7c-e901616e2331",
     "showTitle": true,
     "title": "Step5 - Visualizando a pasta dos deltas criados."
    }
   },
   "outputs": [
    {
     "output_type": "display_data",
     "data": {
      "text/html": [
       "<style scoped>\n",
       "  .table-result-container {\n",
       "    max-height: 300px;\n",
       "    overflow: auto;\n",
       "  }\n",
       "  table, th, td {\n",
       "    border: 1px solid black;\n",
       "    border-collapse: collapse;\n",
       "  }\n",
       "  th, td {\n",
       "    padding: 5px;\n",
       "  }\n",
       "  th {\n",
       "    text-align: left;\n",
       "  }\n",
       "</style><div class='table-result-container'><table class='table-result'><thead style='background-color: white'><tr><th>path</th><th>name</th><th>size</th><th>modificationTime</th></tr></thead><tbody><tr><td>dbfs:/FileStore/output/delta_analise1/</td><td>delta_analise1/</td><td>0</td><td>0</td></tr><tr><td>dbfs:/FileStore/output/delta_analise2/</td><td>delta_analise2/</td><td>0</td><td>0</td></tr><tr><td>dbfs:/FileStore/output/delta_analise3/</td><td>delta_analise3/</td><td>0</td><td>0</td></tr></tbody></table></div>"
      ]
     },
     "metadata": {
      "application/vnd.databricks.v1+output": {
       "addedWidgets": {},
       "aggData": [],
       "aggError": "",
       "aggOverflow": false,
       "aggSchema": [],
       "aggSeriesLimitReached": false,
       "aggType": "",
       "arguments": {},
       "columnCustomDisplayInfos": {},
       "data": [
        [
         "dbfs:/FileStore/output/delta_analise1/",
         "delta_analise1/",
         0,
         0
        ],
        [
         "dbfs:/FileStore/output/delta_analise2/",
         "delta_analise2/",
         0,
         0
        ],
        [
         "dbfs:/FileStore/output/delta_analise3/",
         "delta_analise3/",
         0,
         0
        ]
       ],
       "datasetInfos": [],
       "dbfsResultPath": null,
       "isJsonSchema": true,
       "metadata": {},
       "overflow": false,
       "plotOptions": {
        "customPlotOptions": {},
        "displayType": "table",
        "pivotAggregation": null,
        "pivotColumns": null,
        "xColumns": null,
        "yColumns": null
       },
       "removedWidgets": [],
       "schema": [
        {
         "metadata": "{}",
         "name": "path",
         "type": "\"string\""
        },
        {
         "metadata": "{}",
         "name": "name",
         "type": "\"string\""
        },
        {
         "metadata": "{}",
         "name": "size",
         "type": "\"long\""
        },
        {
         "metadata": "{}",
         "name": "modificationTime",
         "type": "\"long\""
        }
       ],
       "type": "table"
      }
     },
     "output_type": "display_data"
    },
    {
     "output_type": "display_data",
     "data": {
      "text/html": [
       "<style scoped>\n",
       "  .table-result-container {\n",
       "    max-height: 300px;\n",
       "    overflow: auto;\n",
       "  }\n",
       "  table, th, td {\n",
       "    border: 1px solid black;\n",
       "    border-collapse: collapse;\n",
       "  }\n",
       "  th, td {\n",
       "    padding: 5px;\n",
       "  }\n",
       "  th {\n",
       "    text-align: left;\n",
       "  }\n",
       "</style><div class='table-result-container'><table class='table-result'><thead style='background-color: white'><tr><th>path</th><th>name</th><th>size</th><th>modificationTime</th></tr></thead><tbody><tr><td>dbfs:/FileStore/output/delta_analise1/_delta_log/</td><td>_delta_log/</td><td>0</td><td>0</td></tr><tr><td>dbfs:/FileStore/output/delta_analise1/part-00000-b2c6e6e1-5b1a-4fb1-8e5d-f307c3ab9be5-c000.snappy.parquet</td><td>part-00000-b2c6e6e1-5b1a-4fb1-8e5d-f307c3ab9be5-c000.snappy.parquet</td><td>947</td><td>1692909296000</td></tr></tbody></table></div>"
      ]
     },
     "metadata": {
      "application/vnd.databricks.v1+output": {
       "addedWidgets": {},
       "aggData": [],
       "aggError": "",
       "aggOverflow": false,
       "aggSchema": [],
       "aggSeriesLimitReached": false,
       "aggType": "",
       "arguments": {},
       "columnCustomDisplayInfos": {},
       "data": [
        [
         "dbfs:/FileStore/output/delta_analise1/_delta_log/",
         "_delta_log/",
         0,
         0
        ],
        [
         "dbfs:/FileStore/output/delta_analise1/part-00000-b2c6e6e1-5b1a-4fb1-8e5d-f307c3ab9be5-c000.snappy.parquet",
         "part-00000-b2c6e6e1-5b1a-4fb1-8e5d-f307c3ab9be5-c000.snappy.parquet",
         947,
         1692909296000
        ]
       ],
       "datasetInfos": [],
       "dbfsResultPath": null,
       "isJsonSchema": true,
       "metadata": {},
       "overflow": false,
       "plotOptions": {
        "customPlotOptions": {},
        "displayType": "table",
        "pivotAggregation": null,
        "pivotColumns": null,
        "xColumns": null,
        "yColumns": null
       },
       "removedWidgets": [],
       "schema": [
        {
         "metadata": "{}",
         "name": "path",
         "type": "\"string\""
        },
        {
         "metadata": "{}",
         "name": "name",
         "type": "\"string\""
        },
        {
         "metadata": "{}",
         "name": "size",
         "type": "\"long\""
        },
        {
         "metadata": "{}",
         "name": "modificationTime",
         "type": "\"long\""
        }
       ],
       "type": "table"
      }
     },
     "output_type": "display_data"
    },
    {
     "output_type": "display_data",
     "data": {
      "text/html": [
       "<style scoped>\n",
       "  .table-result-container {\n",
       "    max-height: 300px;\n",
       "    overflow: auto;\n",
       "  }\n",
       "  table, th, td {\n",
       "    border: 1px solid black;\n",
       "    border-collapse: collapse;\n",
       "  }\n",
       "  th, td {\n",
       "    padding: 5px;\n",
       "  }\n",
       "  th {\n",
       "    text-align: left;\n",
       "  }\n",
       "</style><div class='table-result-container'><table class='table-result'><thead style='background-color: white'><tr><th>path</th><th>name</th><th>size</th><th>modificationTime</th></tr></thead><tbody><tr><td>dbfs:/FileStore/output/delta_analise2/_delta_log/</td><td>_delta_log/</td><td>0</td><td>0</td></tr><tr><td>dbfs:/FileStore/output/delta_analise2/part-00000-c1cbf167-2424-4f1c-98d3-bda00942b2b2-c000.snappy.parquet</td><td>part-00000-c1cbf167-2424-4f1c-98d3-bda00942b2b2-c000.snappy.parquet</td><td>1072</td><td>1692909321000</td></tr></tbody></table></div>"
      ]
     },
     "metadata": {
      "application/vnd.databricks.v1+output": {
       "addedWidgets": {},
       "aggData": [],
       "aggError": "",
       "aggOverflow": false,
       "aggSchema": [],
       "aggSeriesLimitReached": false,
       "aggType": "",
       "arguments": {},
       "columnCustomDisplayInfos": {},
       "data": [
        [
         "dbfs:/FileStore/output/delta_analise2/_delta_log/",
         "_delta_log/",
         0,
         0
        ],
        [
         "dbfs:/FileStore/output/delta_analise2/part-00000-c1cbf167-2424-4f1c-98d3-bda00942b2b2-c000.snappy.parquet",
         "part-00000-c1cbf167-2424-4f1c-98d3-bda00942b2b2-c000.snappy.parquet",
         1072,
         1692909321000
        ]
       ],
       "datasetInfos": [],
       "dbfsResultPath": null,
       "isJsonSchema": true,
       "metadata": {},
       "overflow": false,
       "plotOptions": {
        "customPlotOptions": {},
        "displayType": "table",
        "pivotAggregation": null,
        "pivotColumns": null,
        "xColumns": null,
        "yColumns": null
       },
       "removedWidgets": [],
       "schema": [
        {
         "metadata": "{}",
         "name": "path",
         "type": "\"string\""
        },
        {
         "metadata": "{}",
         "name": "name",
         "type": "\"string\""
        },
        {
         "metadata": "{}",
         "name": "size",
         "type": "\"long\""
        },
        {
         "metadata": "{}",
         "name": "modificationTime",
         "type": "\"long\""
        }
       ],
       "type": "table"
      }
     },
     "output_type": "display_data"
    },
    {
     "output_type": "display_data",
     "data": {
      "text/html": [
       "<style scoped>\n",
       "  .table-result-container {\n",
       "    max-height: 300px;\n",
       "    overflow: auto;\n",
       "  }\n",
       "  table, th, td {\n",
       "    border: 1px solid black;\n",
       "    border-collapse: collapse;\n",
       "  }\n",
       "  th, td {\n",
       "    padding: 5px;\n",
       "  }\n",
       "  th {\n",
       "    text-align: left;\n",
       "  }\n",
       "</style><div class='table-result-container'><table class='table-result'><thead style='background-color: white'><tr><th>path</th><th>name</th><th>size</th><th>modificationTime</th></tr></thead><tbody><tr><td>dbfs:/FileStore/output/delta_analise3/_delta_log/</td><td>_delta_log/</td><td>0</td><td>0</td></tr><tr><td>dbfs:/FileStore/output/delta_analise3/part-00000-2651bb2f-5925-4104-977f-fec7bd956ec0-c000.snappy.parquet</td><td>part-00000-2651bb2f-5925-4104-977f-fec7bd956ec0-c000.snappy.parquet</td><td>1298</td><td>1692909584000</td></tr></tbody></table></div>"
      ]
     },
     "metadata": {
      "application/vnd.databricks.v1+output": {
       "addedWidgets": {},
       "aggData": [],
       "aggError": "",
       "aggOverflow": false,
       "aggSchema": [],
       "aggSeriesLimitReached": false,
       "aggType": "",
       "arguments": {},
       "columnCustomDisplayInfos": {},
       "data": [
        [
         "dbfs:/FileStore/output/delta_analise3/_delta_log/",
         "_delta_log/",
         0,
         0
        ],
        [
         "dbfs:/FileStore/output/delta_analise3/part-00000-2651bb2f-5925-4104-977f-fec7bd956ec0-c000.snappy.parquet",
         "part-00000-2651bb2f-5925-4104-977f-fec7bd956ec0-c000.snappy.parquet",
         1298,
         1692909584000
        ]
       ],
       "datasetInfos": [],
       "dbfsResultPath": null,
       "isJsonSchema": true,
       "metadata": {},
       "overflow": false,
       "plotOptions": {
        "customPlotOptions": {},
        "displayType": "table",
        "pivotAggregation": null,
        "pivotColumns": null,
        "xColumns": null,
        "yColumns": null
       },
       "removedWidgets": [],
       "schema": [
        {
         "metadata": "{}",
         "name": "path",
         "type": "\"string\""
        },
        {
         "metadata": "{}",
         "name": "name",
         "type": "\"string\""
        },
        {
         "metadata": "{}",
         "name": "size",
         "type": "\"long\""
        },
        {
         "metadata": "{}",
         "name": "modificationTime",
         "type": "\"long\""
        }
       ],
       "type": "table"
      }
     },
     "output_type": "display_data"
    }
   ],
   "source": [
    "#Validading Files Delta geral\n",
    "display(dbutils.fs.ls(\"dbfs:/FileStore/output\"))\n",
    "display(dbutils.fs.ls(\"dbfs:/FileStore/output/delta_analise1/\"))\n",
    "display(dbutils.fs.ls(\"dbfs:/FileStore/output/delta_analise2/\"))\n",
    "display(dbutils.fs.ls(\"dbfs:/FileStore/output/delta_analise3/\"))"
   ]
  }
 ],
 "metadata": {
  "application/vnd.databricks.v1+notebook": {
   "dashboards": [],
   "language": "python",
   "notebookMetadata": {
    "pythonIndentUnit": 4
   },
   "notebookName": "5- Codigo Spark Perguntas e Respostas",
   "widgets": {}
  }
 },
 "nbformat": 4,
 "nbformat_minor": 0
}
